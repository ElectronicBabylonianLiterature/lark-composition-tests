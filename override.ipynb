{
 "cells": [
  {
   "cell_type": "markdown",
   "id": "b4fddf7e",
   "metadata": {},
   "source": [
    "# ATF Grammar Composition\n",
    "\n",
    "Some factors to consider regarding the (re-)structuring of the Lark grammars for different ATF-flavors.\n",
    "\n",
    "**TLDR**: If we really have to tinker with the existing structure, we should use the extension \n",
    "mechanisms provided by [lark](https://lark-parser.readthedocs.io/en/stable/), like `%extend` and \n",
    "`%override` (see Option 3 below)."
   ]
  },
  {
   "cell_type": "markdown",
   "id": "8d3fe81d",
   "metadata": {},
   "source": [
    "## Prepare Test Data"
   ]
  },
  {
   "cell_type": "code",
   "execution_count": 1,
   "id": "67bbdb7f",
   "metadata": {},
   "outputs": [],
   "source": [
    "from lark import UnexpectedCharacters\n",
    "from lark.lark import Lark\n",
    "\n",
    "ebl_lines = [\n",
    "    \"This is an eBL textline\",\n",
    "    \"And this is a common linetype\",\n",
    "]\n",
    "\n",
    "oracc_lines = [\n",
    "    \"This is an oracc-style textline\",\n",
    "    \"Here is an oracc-specific linetype\",\n",
    "]\n",
    "\n",
    "lines = ebl_lines + oracc_lines\n",
    "\n",
    "\n",
    "def test_grammar(grammar_path, lines):\n",
    "\n",
    "    parser = Lark.open(grammar_path)\n",
    "\n",
    "    for line in lines:\n",
    "        try:\n",
    "            tree = parser.parse(line)\n",
    "            print(tree.pretty())\n",
    "        except UnexpectedCharacters as e:\n",
    "            print(f\"Cannot parse {line!r}\")"
   ]
  },
  {
   "cell_type": "markdown",
   "id": "d81d4775",
   "metadata": {},
   "source": [
    "## eBL Base Parser\n",
    "\n",
    "Handles only eBL-flavored ATF. Fails for Oracc-style lines.\n",
    "\n",
    "The test grammar looks like this:\n",
    "\n",
    "```lark\n",
    "start: textline | common_line\n",
    "\n",
    "?textline: \"This is an eBL textline\"\n",
    "?common_line: \"And this is a common linetype\"\n",
    "```"
   ]
  },
  {
   "cell_type": "code",
   "execution_count": 2,
   "id": "7d014d99",
   "metadata": {},
   "outputs": [
    {
     "name": "stdout",
     "output_type": "stream",
     "text": [
      "start\n",
      "  textline\n",
      "\n",
      "start\n",
      "  common_line\n",
      "\n",
      "Cannot parse 'This is an oracc-style textline'\n",
      "Cannot parse 'Here is an oracc-specific linetype'\n"
     ]
    }
   ],
   "source": [
    "test_grammar(\"grammars/ebl_atf.lark\", lines)"
   ]
  },
  {
   "cell_type": "markdown",
   "id": "7639e865",
   "metadata": {},
   "source": [
    "## Option 1 (Currently in Place): Keep Separate Grammars for eBL and Oracc\n",
    "\n",
    "Maintain separate grammars for each flavor, i.e., the eBL grammar above plus the Oracc-specific \n",
    "grammar below. Whether to use one or the other grammar needs to be decided during runtime (e.g., use\n",
    "Oracc when importing Oracc files).\n",
    "\n",
    "### eBL Grammar\n",
    "\n",
    "```lark\n",
    "start: textline | common_line\n",
    "\n",
    "?textline: \"This is an eBL textline\"\n",
    "?common_line: \"And this is a common linetype\"\n",
    "```\n",
    "\n",
    "### Oracc Grammar\n",
    "\n",
    "```lark\n",
    "start: textline | legacy_line | common_line\n",
    "\n",
    "?textline: \"This is an oracc-style textline\"\n",
    "?common_line: \"And this is a common linetype\"\n",
    "?legacy_line: \"Here is an oracc-specific linetype\"\n",
    "```\n",
    "\n",
    "### Pros and Cons\n",
    "\n",
    "Splitting grammars is common (and best) practice in Computational Linguistics. Keeping the grammars\n",
    "independent of each other is future-proof as they can be maintained and extended without unwanted \n",
    "side effects. In theory, this also prevents situations where an input sequence is well-formed in one \n",
    "grammar but invalid in the other. \n",
    "\n",
    "The resulting duplication/verbosity is not a critical issue. It does not harm the performance or \n",
    "readability of the code. IMHO, grammar updates - especially updates that affect both eBL and Oracc \n",
    "simultaneously - are so infrequent that they do not warrant the effort needed to merge the grammars.\n"
   ]
  },
  {
   "cell_type": "code",
   "execution_count": 3,
   "id": "3181a2e3",
   "metadata": {},
   "outputs": [
    {
     "name": "stdout",
     "output_type": "stream",
     "text": [
      "start\n",
      "  textline\n",
      "\n",
      "start\n",
      "  common_line\n",
      "\n",
      "start\n",
      "  textline\n",
      "\n",
      "start\n",
      "  legacy_line\n",
      "\n"
     ]
    }
   ],
   "source": [
    "# decide which grammar to use in runtime\n",
    "test_grammar(\"grammars/ebl_atf.lark\", ebl_lines)\n",
    "test_grammar(\"grammars/oracc_atf.lark\", oracc_lines)"
   ]
  },
  {
   "cell_type": "markdown",
   "id": "c4d5cbb2",
   "metadata": {},
   "source": [
    "## Option 2 (Suggested by [#552](https://github.com/ElectronicBabylonianLiterature/ebl-api/pull/552)): Merge the Grammars\n",
    "\n",
    "Incorporate Oracc-style structures into eBL grammar (or vice versa).\n",
    "\n",
    "### Grammar\n",
    "\n",
    "```lark\n",
    "start: textline | common_line | legacy_line\n",
    "\n",
    "?textline: \"This is an eBL textline\" | \"This is an oracc-style textline\"\n",
    "?common_line: \"And this is a common linetype\"\n",
    "?legacy_line: \"Here is an oracc-specific linetype\"\n",
    "```\n",
    "\n",
    "### Pros and Cons\n",
    "\n",
    "It reduces redundancy. Changes that affect both flavors of the grammar only need to be implemented \n",
    "once. We end up with a single, monolothic grammar that can (in principle) handle all kinds of inputs.\n",
    "\n",
    "While this is a good thing in executable code, it means that it becomes impossible to tell whether \n",
    "an item is shared between the two ATF flavors or specific to eBL or Oracc. This makes maintenance \n",
    "much harder because updating a rule may have uninented side effects (e.g., changing a rule for eBL \n",
    "may cause Oracc-style inputs to become unparsable) that may not become immediately apparent.\n",
    "\n",
    "Another issue to consider are conflicts. Definitions may be entirely incompatible with each other\n",
    "(something like `foobar`-lines in eBL must start with `foo` but in Oracc they must start with `Foo`),\n",
    "requiring manual disambiguation via rule variants.\n",
    "\n",
    "Merging can also cause subtle bugs if a line is invalid within one grammar (and *should* throw \n",
    "an error) but happens to match a pattern from the other grammar (and thus gets parsed anyway, though \n",
    "not as intended). We already have an issue like that with the `translation` vs. `control` lines, \n",
    "where malformed translation lines are erroneously parsed as control lines since they happen to match\n",
    "the more inclusive control line pattern.\n"
   ]
  },
  {
   "cell_type": "code",
   "execution_count": 4,
   "id": "67edc60c",
   "metadata": {},
   "outputs": [
    {
     "name": "stdout",
     "output_type": "stream",
     "text": [
      "start\n",
      "  textline\n",
      "\n",
      "start\n",
      "  common_line\n",
      "\n",
      "start\n",
      "  textline\n",
      "\n",
      "start\n",
      "  legacy_line\n",
      "\n"
     ]
    }
   ],
   "source": [
    "test_grammar(\"grammars/merged_atf.lark\", lines)"
   ]
  },
  {
   "cell_type": "markdown",
   "id": "f85a2733",
   "metadata": {},
   "source": [
    "## Option 3 (Preferred): Extend a Base Grammar\n",
    "\n",
    "Use one of the two grammars as base grammr and implement the other as an *extension* of it.\n",
    "Alternatively, define a common base grammar that only holds those elements shared by all ATF flavors\n",
    "and implement both eBL- and Oracc-specific elements as separate extensions.\n",
    "\n",
    "### eBL Base Grammar (as Before)\n",
    "\n",
    "```lark\n",
    "start: textline | common_line\n",
    "\n",
    "?textline: \"This is an eBL textline\"\n",
    "?common_line: \"And this is a common linetype\"\n",
    "```\n",
    "\n",
    "### Oracc Grammars as Extension\n",
    "\n",
    "```lark\n",
    "%import .ebl_atf (textline, common_line, start)\n",
    "\n",
    "?oracc_line: \"Here is an oracc-specific linetype\"\n",
    "\n",
    "%extend textline: \"This is an oracc-style textline\"\n",
    "%extend start: oracc_line\n",
    "```\n",
    "\n",
    "### Pros and Cons\n",
    "\n",
    "It keeps the grammars modular while minimizing redundancy. It clearly indicates flavor-specific \n",
    "elements. It is in line with the way lark is supposed to be used. All of this promotes maintenance\n",
    "and readability."
   ]
  },
  {
   "cell_type": "code",
   "execution_count": 5,
   "id": "aadd5e0f",
   "metadata": {},
   "outputs": [
    {
     "name": "stdout",
     "output_type": "stream",
     "text": [
      "start\n",
      "  textline\n",
      "\n",
      "start\n",
      "  common_line\n",
      "\n",
      "start\n",
      "  textline\n",
      "\n",
      "start\n",
      "  oracc_line\n",
      "\n"
     ]
    }
   ],
   "source": [
    "test_grammar(\"grammars/oracc_extension.lark\", lines)"
   ]
  }
 ],
 "metadata": {
  "kernelspec": {
   "display_name": "ebl-pipenv",
   "language": "python",
   "name": "ebl-pipenv"
  },
  "language_info": {
   "codemirror_mode": {
    "name": "ipython",
    "version": 3
   },
   "file_extension": ".py",
   "mimetype": "text/x-python",
   "name": "python",
   "nbconvert_exporter": "python",
   "pygments_lexer": "ipython3",
   "version": "3.9.23"
  }
 },
 "nbformat": 4,
 "nbformat_minor": 5
}
